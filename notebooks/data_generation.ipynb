{
 "cells": [
  {
   "cell_type": "code",
   "execution_count": 1,
   "metadata": {},
   "outputs": [],
   "source": [
    "import pyrootutils\n",
    "root = pyrootutils.setup_root(\".\", pythonpath=True, cwd=True)"
   ]
  },
  {
   "cell_type": "code",
   "execution_count": 2,
   "metadata": {},
   "outputs": [],
   "source": [
    "import pandas as pd\n",
    "import numpy as np\n",
    "import torch\n",
    "from torchvision.transforms import transforms\n",
    "from torch.utils.data import DataLoader, Dataset, random_split\n",
    "import os\n",
    "from tqdm import tqdm\n",
    "import rich\n",
    "from collections import Counter\n",
    "import matplotlib.pyplot as plt"
   ]
  },
  {
   "cell_type": "code",
   "execution_count": 3,
   "metadata": {},
   "outputs": [],
   "source": [
    "# from src.data.face_age_dataset import FaceAgeDataset\n",
    "from src.data.face_age_dataset_from_path import FaceAgeDataset"
   ]
  },
  {
   "cell_type": "code",
   "execution_count": 4,
   "metadata": {},
   "outputs": [],
   "source": [
    "class cfg:\n",
    "    img_size = (224, 224)\n",
    "    max_age = 80\n",
    "    val_size = 1600\n",
    "    test_size = 1600\n",
    "    max_imgs_per_class = 500\n",
    "    oversample_with_augmentation = True"
   ]
  },
  {
   "cell_type": "code",
   "execution_count": 5,
   "metadata": {},
   "outputs": [],
   "source": [
    "imagenet_mean = (0.485, 0.456, 0.406)\n",
    "imagenet_std = (0.229, 0.224, 0.225)\n",
    "transform = [transforms.Normalize(imagenet_mean, imagenet_std)]\n",
    "\n",
    "ds = FaceAgeDataset(\n",
    "    data_dir=\"data/\",\n",
    "    img_size=cfg.img_size,\n",
    "    label_clipping=(1, cfg.max_age),\n",
    "    normalize_labels=False,\n",
    "    transform=transform,\n",
    ")"
   ]
  },
  {
   "cell_type": "code",
   "execution_count": 6,
   "metadata": {},
   "outputs": [
    {
     "data": {
      "text/plain": [
       "(torch.Size([3, 224, 224]), torch.Size([1]), 0)"
      ]
     },
     "execution_count": 6,
     "metadata": {},
     "output_type": "execute_result"
    }
   ],
   "source": [
    "x, y, idx = ds[0]\n",
    "x.shape, y.shape, idx"
   ]
  },
  {
   "cell_type": "code",
   "execution_count": 7,
   "metadata": {},
   "outputs": [],
   "source": [
    "# create folders for new dataset\n",
    "os.makedirs(\"data/face_age_dataset/train\", exist_ok=True)\n",
    "os.makedirs(\"data/face_age_dataset/val\", exist_ok=True)\n",
    "os.makedirs(\"data/face_age_dataset/test\", exist_ok=True)"
   ]
  },
  {
   "cell_type": "code",
   "execution_count": 8,
   "metadata": {},
   "outputs": [],
   "source": [
    "imgs_per_val_class = int(cfg.val_size / cfg.max_age)\n",
    "imgs_per_test_class = int(cfg.test_size / cfg.max_age)\n",
    "\n",
    "used_idxs = set() # img ids used for validation and testing"
   ]
  },
  {
   "attachments": {},
   "cell_type": "markdown",
   "metadata": {},
   "source": [
    "### Generate validation set"
   ]
  },
  {
   "cell_type": "code",
   "execution_count": 9,
   "metadata": {},
   "outputs": [
    {
     "name": "stderr",
     "output_type": "stream",
     "text": [
      "100%|██████████| 23708/23708 [00:39<00:00, 594.71it/s]"
     ]
    },
    {
     "name": "stdout",
     "output_type": "stream",
     "text": [
      "Val imgs: 1600\n"
     ]
    },
    {
     "name": "stderr",
     "output_type": "stream",
     "text": [
      "\n"
     ]
    }
   ],
   "source": [
    "class_counts_val = Counter()\n",
    "\n",
    "for x, y, idx in tqdm(DataLoader(ds, shuffle=True)):\n",
    "    idx = int(idx)\n",
    "    y = int(y)\n",
    "    count = class_counts_val[y]\n",
    "    \n",
    "    if count < imgs_per_val_class and idx not in used_idxs:\n",
    "        class_counts_val[y] += 1\n",
    "        used_idxs.add(idx)\n",
    "        x = x.squeeze(0)\n",
    "        torch.save(x, f\"data/face_age_dataset/val/{idx}_age_{y}.pt\")\n",
    "        \n",
    "print(\"Val imgs:\", sum(class_counts_val.values()))"
   ]
  },
  {
   "attachments": {},
   "cell_type": "markdown",
   "metadata": {},
   "source": [
    "### Generate test set"
   ]
  },
  {
   "cell_type": "code",
   "execution_count": 10,
   "metadata": {},
   "outputs": [
    {
     "name": "stderr",
     "output_type": "stream",
     "text": [
      "100%|██████████| 23708/23708 [00:34<00:00, 691.39it/s]"
     ]
    },
    {
     "name": "stdout",
     "output_type": "stream",
     "text": [
      "Test imgs: 1556\n"
     ]
    },
    {
     "name": "stderr",
     "output_type": "stream",
     "text": [
      "\n"
     ]
    }
   ],
   "source": [
    "class_counts_test = Counter()\n",
    "\n",
    "for x, y, idx in tqdm(DataLoader(ds, shuffle=True)):\n",
    "    idx = int(idx)\n",
    "    y = int(y)\n",
    "    count = class_counts_test[y]\n",
    "    \n",
    "    if count < imgs_per_test_class and idx not in used_idxs:\n",
    "        class_counts_test[y] += 1\n",
    "        used_idxs.add(idx)\n",
    "        x = x.squeeze(0)\n",
    "        torch.save(x, f\"data/face_age_dataset/test/{idx}_age_{y}.pt\")\n",
    "        \n",
    "print(\"Test imgs:\", sum(class_counts_test.values()))"
   ]
  },
  {
   "attachments": {},
   "cell_type": "markdown",
   "metadata": {},
   "source": [
    "### Generate train set"
   ]
  },
  {
   "cell_type": "code",
   "execution_count": 11,
   "metadata": {},
   "outputs": [
    {
     "name": "stderr",
     "output_type": "stream",
     "text": [
      "100%|██████████| 23708/23708 [01:41<00:00, 234.08it/s]"
     ]
    },
    {
     "name": "stdout",
     "output_type": "stream",
     "text": [
      "Train imgs: 16535\n"
     ]
    },
    {
     "name": "stderr",
     "output_type": "stream",
     "text": [
      "\n"
     ]
    }
   ],
   "source": [
    "class_counts_train = Counter()\n",
    "\n",
    "for x, y, idx in tqdm(DataLoader(ds, shuffle=True)):\n",
    "    idx = int(idx)\n",
    "    y = int(y)\n",
    "    count = class_counts_train[y]\n",
    "    \n",
    "    if count < cfg.max_imgs_per_class and idx not in used_idxs:\n",
    "        class_counts_train[y] += 1\n",
    "        x = x.squeeze(0)\n",
    "        torch.save(x, f\"data/face_age_dataset/train/{idx}_age_{y}.pt\")\n",
    "\n",
    "print(\"Train imgs:\", sum(class_counts_train.values()))"
   ]
  },
  {
   "cell_type": "markdown",
   "metadata": {},
   "source": [
    "### Augment train set"
   ]
  },
  {
   "cell_type": "code",
   "execution_count": 12,
   "metadata": {},
   "outputs": [
    {
     "name": "stdout",
     "output_type": "stream",
     "text": [
      "Before augmentation:\n"
     ]
    },
    {
     "data": {
      "image/png": "[encoded data removed]",
      "text/plain": [
       "<Figure size 432x288 with 1 Axes>"
      ]
     },
     "metadata": {
      "needs_background": "light"
     },
     "output_type": "display_data"
    },
    {
     "name": "stderr",
     "output_type": "stream",
     "text": [
      "100%|██████████| 80/80 [05:53<00:00,  4.41s/it]"
     ]
    },
    {
     "name": "stdout",
     "output_type": "stream",
     "text": [
      "After augmentation:\n"
     ]
    },
    {
     "name": "stderr",
     "output_type": "stream",
     "text": [
      "\n"
     ]
    },
    {
     "data": {
      "image/png": "[encoded data removed]",
      "text/plain": [
       "<Figure size 432x288 with 1 Axes>"
      ]
     },
     "metadata": {
      "needs_background": "light"
     },
     "output_type": "display_data"
    }
   ],
   "source": [
    "print(\"Before augmentation:\")\n",
    "plt.bar(class_counts_train.keys(), class_counts_train.values())\n",
    "plt.show()\n",
    "\n",
    "transform_list = [\n",
    "    transforms.RandomRotation(20),\n",
    "    transforms.RandomVerticalFlip(),\n",
    "    transforms.ColorJitter(brightness=0.2, contrast=0.1, saturation=0.1, hue=0.2),\n",
    "    transforms.RandomAffine(degrees=0, translate=(0.1, 0.1), scale=(0.8, 1.2), shear=10),\n",
    "    transforms.RandomPerspective(distortion_scale=0.2, p=0.5, fill=0),\n",
    "    transforms.RandomErasing(p=0.5, scale=(0.02, 0.33), ratio=(0.3, 3.3), value=0, inplace=False),\n",
    "]\n",
    "transform = transforms.Compose(transform_list)\n",
    "\n",
    "if cfg.oversample_with_augmentation:\n",
    "    os.makedirs(\"data/face_age_dataset/train_augmented\", exist_ok=True)\n",
    "    augmented_imgs_count = 0\n",
    "    \n",
    "    # iterate over labels\n",
    "    for label in tqdm(range(1, cfg.max_age + 1)):\n",
    "        \n",
    "        # load all images for label\n",
    "        img_paths = [x for x in os.listdir(\"data/face_age_dataset/train\") if f\"age_{label}.pt\" in x]\n",
    "        imgs = [torch.load(f\"data/face_age_dataset/train/{x}\") for x in img_paths]\n",
    "        \n",
    "        if not imgs:\n",
    "            continue\n",
    "        \n",
    "        # augment images while there are less than max_imgs_per_class\n",
    "        augmented_imgs = []\n",
    "        while len(imgs) + len(augmented_imgs) < cfg.max_imgs_per_class:\n",
    "            for img in imgs:\n",
    "                \n",
    "                if len(imgs) + len(augmented_imgs) >= cfg.max_imgs_per_class:\n",
    "                    break\n",
    "                \n",
    "                augmented_imgs_count += 1\n",
    "                class_counts_train[label] += 1\n",
    "                augmented_imgs.append(transform(img))\n",
    "                \n",
    "        for idx, img in enumerate(augmented_imgs):\n",
    "            torch.save(img, f\"data/face_age_dataset/train_augmented/augmented_{idx}_age_{label}.pt\")\n",
    "        \n",
    "print(\"After augmentation:\")\n",
    "plt.bar(class_counts_train.keys(), class_counts_train.values())\n",
    "plt.show()"
   ]
  },
  {
   "cell_type": "code",
   "execution_count": 13,
   "metadata": {},
   "outputs": [
    {
     "name": "stdout",
     "output_type": "stream",
     "text": [
      "Train Counter({70: 500, 34: 500, 52: 500, 3: 500, 22: 500, 31: 500, 29: 500, 35: 500, 37: 500, 21: 500, 59: 500, 6: 500, 4: 500, 2: 500, 26: 500, 17: 500, 72: 500, 24: 500, 1: 500, 32: 500, 12: 500, 28: 500, 7: 500, 43: 500, 5: 500, 27: 500, 38: 500, 30: 500, 25: 500, 45: 500, 49: 500, 42: 500, 23: 500, 18: 500, 16: 500, 39: 500, 8: 500, 19: 500, 53: 500, 15: 500, 36: 500, 10: 500, 9: 500, 50: 500, 40: 500, 58: 500, 61: 500, 54: 500, 65: 500, 80: 500, 46: 500, 51: 500, 47: 500, 60: 500, 55: 500, 63: 500, 20: 500, 14: 500, 44: 500, 56: 500, 75: 500, 78: 500, 66: 500, 41: 500, 48: 500, 62: 500, 73: 500, 33: 500, 57: 500, 76: 500, 68: 500, 67: 500, 13: 500, 64: 500, 11: 500, 69: 500})\n",
      "Val Counter({60: 20, 42: 20, 35: 20, 22: 20, 23: 20, 26: 20, 28: 20, 1: 20, 17: 20, 6: 20, 80: 20, 10: 20, 30: 20, 24: 20, 36: 20, 18: 20, 37: 20, 41: 20, 14: 20, 53: 20, 54: 20, 3: 20, 46: 20, 20: 20, 38: 20, 58: 20, 31: 20, 67: 20, 72: 20, 2: 20, 34: 20, 9: 20, 8: 20, 63: 20, 73: 20, 4: 20, 32: 20, 55: 20, 52: 20, 29: 20, 27: 20, 69: 20, 50: 20, 66: 20, 21: 20, 47: 20, 79: 20, 51: 20, 62: 20, 40: 20, 39: 20, 16: 20, 12: 20, 44: 20, 45: 20, 61: 20, 65: 20, 25: 20, 33: 20, 75: 20, 13: 20, 48: 20, 19: 20, 56: 20, 7: 20, 15: 20, 49: 20, 78: 20, 68: 20, 70: 20, 5: 20, 59: 20, 57: 20, 76: 20, 43: 20, 11: 20, 64: 20, 71: 20, 77: 20, 74: 20})\n",
      "Test Counter({2: 20, 26: 20, 56: 20, 29: 20, 75: 20, 21: 20, 23: 20, 40: 20, 18: 20, 28: 20, 31: 20, 25: 20, 65: 20, 80: 20, 38: 20, 42: 20, 41: 20, 39: 20, 10: 20, 3: 20, 27: 20, 70: 20, 50: 20, 60: 20, 35: 20, 7: 20, 1: 20, 8: 20, 58: 20, 4: 20, 15: 20, 36: 20, 30: 20, 34: 20, 20: 20, 47: 20, 16: 20, 54: 20, 68: 20, 45: 20, 57: 20, 24: 20, 13: 20, 5: 20, 53: 20, 32: 20, 33: 20, 63: 20, 6: 20, 55: 20, 14: 20, 48: 20, 67: 20, 11: 20, 46: 20, 12: 20, 43: 20, 37: 20, 49: 20, 61: 20, 73: 20, 52: 20, 62: 20, 22: 20, 9: 20, 66: 20, 59: 20, 19: 20, 17: 20, 64: 20, 51: 20, 69: 20, 76: 20, 44: 20, 72: 20, 78: 20, 71: 13, 74: 12, 77: 8, 79: 3})\n",
      "76\n",
      "80\n",
      "80\n",
      "Train imgs: 38000\n",
      "Val imgs: 1600\n",
      "Test imgs: 1556\n"
     ]
    }
   ],
   "source": [
    "print(\"Train\", class_counts_train)\n",
    "print(\"Val\", class_counts_val)\n",
    "print(\"Test\", class_counts_test)\n",
    "\n",
    "print(len(class_counts_train.keys()))\n",
    "print(len(class_counts_val.keys()))\n",
    "print(len(class_counts_test.keys()))\n",
    "\n",
    "print(\"Train imgs:\", sum(class_counts_train.values()))\n",
    "print(\"Val imgs:\", sum(class_counts_val.values()))\n",
    "print(\"Test imgs:\", sum(class_counts_test.values()))"
   ]
  },
  {
   "cell_type": "code",
   "execution_count": null,
   "metadata": {},
   "outputs": [],
   "source": []
  }
 ],
 "metadata": {
  "kernelspec": {
   "display_name": "myenv",
   "language": "python",
   "name": "python3"
  },
  "language_info": {
   "codemirror_mode": {
    "name": "ipython",
    "version": 3
   },
   "file_extension": ".py",
   "mimetype": "text/x-python",
   "name": "python",
   "nbconvert_exporter": "python",
   "pygments_lexer": "ipython3",
   "version": "3.9.13 (main, Aug 25 2022, 18:24:45) \n[Clang 12.0.0 ]"
  },
  "orig_nbformat": 4,
  "vscode": {
   "interpreter": {
    "hash": "c8bb4dd7ff00fca7c8e4254171e99909a303c03842f517d85c0effa7a3dfad5f"
   }
  }
 },
 "nbformat": 4,
 "nbformat_minor": 2
}
