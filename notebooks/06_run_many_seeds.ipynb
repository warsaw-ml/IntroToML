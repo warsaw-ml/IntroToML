{
 "cells": [
  {
   "cell_type": "code",
   "execution_count": 1,
   "metadata": {},
   "outputs": [
    {
     "name": "stderr",
     "output_type": "stream",
     "text": [
      "/home/ukasz/miniconda3/envs/faceage/lib/python3.8/site-packages/tqdm/auto.py:22: TqdmWarning: IProgress not found. Please update jupyter and ipywidgets. See https://ipywidgets.readthedocs.io/en/stable/user_install.html\n",
      "  from .autonotebook import tqdm as notebook_tqdm\n"
     ]
    }
   ],
   "source": [
    "import time\n",
    "import pyrootutils\n",
    "import pytorch_lightning as pl\n",
    "import wandb\n",
    "\n",
    "# set pythonpath and working directory to folder containing .project-root file\n",
    "root = pyrootutils.setup_root(\".\", indicator=\".project-root\", pythonpath=True, cwd=True)\n",
    "\n",
    "from src.data.face_age_datamodule import FaceAgeDataModule\n",
    "from src.models.face_age_module import FaceAgeModule\n",
    "\n",
    "\n",
    "def main():\n",
    "    \n",
    "    # execute for 3 seeds\n",
    "    for i in range(3):\n",
    "        # set seed for reproducibility\n",
    "        pl.seed_everything(i+42)\n",
    "\n",
    "        data_dir = root / \"data\"\n",
    "        log_dir = root / \"logs\" / time.strftime(\"%Y-%m-%d_%H-%M-%S\", time.localtime())\n",
    "\n",
    "        use_wandb = True\n",
    "        age_norm_value = 80\n",
    "        use_augmented_dataset = False\n",
    "        loss_fn = \"MSELoss\"  # \"SmoothL1Loss\"\n",
    "\n",
    "        # 1\n",
    "        net = \"SimpleConvNet_100x100\"\n",
    "        img_size = (100, 100)\n",
    "        imagenet_normalization = False\n",
    "        exp_name = f\"SimpleConvNet+{img_size}+augmented={use_augmented_dataset}+{loss_fn}\"\n",
    "\n",
    "        # 2\n",
    "        # net = \"SimpleConvNet_224x224\"\n",
    "        # img_size = (224, 224)\n",
    "        # imagenet_normalization = False\n",
    "        # exp_name = f\"SimpleConvNet+{img_size}+augmented={use_augmented_dataset}+{loss_fn}\"\n",
    "\n",
    "        # 3\n",
    "        # net = \"EffNet_224x224\"\n",
    "        # img_size = (224, 224)\n",
    "        # imagenet_normalization = True\n",
    "        # exp_name = f\"EffNet+{img_size}+augmented={use_augmented_dataset}+{loss_fn}\"\n",
    "\n",
    "        datamodule = FaceAgeDataModule(\n",
    "            data_dir=data_dir,\n",
    "            img_size=img_size,\n",
    "            imagenet_normalization=imagenet_normalization,\n",
    "            use_augmented_dataset=use_augmented_dataset,\n",
    "            normalize_age_by=age_norm_value,\n",
    "            num_workers=12,\n",
    "            batch_size=32,\n",
    "            pin_memory=False,\n",
    "        )\n",
    "\n",
    "        model = FaceAgeModule(net=net, rescale_age_by=age_norm_value, loss_fn=loss_fn)\n",
    "\n",
    "        callbacks = []\n",
    "        loggers = []\n",
    "\n",
    "        # this controls how checkpoints are saved\n",
    "        callbacks.append(\n",
    "            pl.callbacks.ModelCheckpoint(\n",
    "                monitor=\"val/loss\",\n",
    "                dirpath=log_dir / \"checkpoints\",\n",
    "                save_top_k=1,  # save the best checkpoint\n",
    "                save_last=True,  # additionally the save the last checkpoint\n",
    "                mode=\"min\",\n",
    "                save_weights_only=True,\n",
    "                filename=\"best-checkpoint\",\n",
    "            )\n",
    "        )\n",
    "\n",
    "        # this configurates optional weights&biases logger\n",
    "        if use_wandb:\n",
    "            loggers.append(\n",
    "                pl.loggers.WandbLogger(\n",
    "                    project=\"face-age\",\n",
    "                    save_dir=log_dir,\n",
    "                    name=exp_name,\n",
    "                    group=exp_name,\n",
    "                )\n",
    "            )\n",
    "\n",
    "        # trainer setup\n",
    "        trainer = pl.Trainer(\n",
    "            accelerator=\"gpu\",\n",
    "            default_root_dir=log_dir,\n",
    "            callbacks=callbacks,\n",
    "            logger=loggers,\n",
    "            max_epochs=10,\n",
    "            val_check_interval=0.2,  # frequency of validation epoch\n",
    "        )\n",
    "\n",
    "        # train\n",
    "        trainer.fit(model=model, datamodule=datamodule)\n",
    "\n",
    "        # test\n",
    "        trainer.test(model=model, datamodule=datamodule, ckpt_path=\"best\")\n",
    "\n",
    "        if use_wandb:\n",
    "            wandb.finish()"
   ]
  },
  {
   "cell_type": "code",
   "execution_count": 2,
   "metadata": {},
   "outputs": [
    {
     "name": "stderr",
     "output_type": "stream",
     "text": [
      "Global seed set to 0\n",
      "Failed to detect the name of this notebook, you can set it manually with the WANDB_NOTEBOOK_NAME environment variable to enable code saving.\n",
      "\u001b[34m\u001b[1mwandb\u001b[0m: Currently logged in as: \u001b[33mhobglob\u001b[0m. Use \u001b[1m`wandb login --relogin`\u001b[0m to force relogin\n",
      "\u001b[34m\u001b[1mwandb\u001b[0m: \u001b[33mWARNING\u001b[0m Path /home/ukasz/Projects/IntroToML/logs/2023-02-04_20-08-03/wandb/ wasn't writable, using system temp directory.\n",
      "wandb: WARNING Path /home/ukasz/Projects/IntroToML/logs/2023-02-04_20-08-03/wandb/ wasn't writable, using system temp directory\n"
     ]
    },
    {
     "data": {
      "text/html": [
       "Tracking run with wandb version 0.13.9"
      ],
      "text/plain": [
       "<IPython.core.display.HTML object>"
      ]
     },
     "metadata": {},
     "output_type": "display_data"
    },
    {
     "data": {
      "text/html": [
       "Run data is saved locally in <code>/tmp/wandb/run-20230204_200805-zwiyng35</code>"
      ],
      "text/plain": [
       "<IPython.core.display.HTML object>"
      ]
     },
     "metadata": {},
     "output_type": "display_data"
    },
    {
     "data": {
      "text/html": [
       "Syncing run <strong><a href=\"https://wandb.ai/hobglob/face-age/runs/zwiyng35\" target=\"_blank\">SimpleConvNet+(100, 100)+augmented=False+MSELoss</a></strong> to <a href=\"https://wandb.ai/hobglob/face-age\" target=\"_blank\">Weights & Biases</a> (<a href=\"https://wandb.me/run\" target=\"_blank\">docs</a>)<br/>"
      ],
      "text/plain": [
       "<IPython.core.display.HTML object>"
      ]
     },
     "metadata": {},
     "output_type": "display_data"
    },
    {
     "data": {
      "text/html": [
       " View project at <a href=\"https://wandb.ai/hobglob/face-age\" target=\"_blank\">https://wandb.ai/hobglob/face-age</a>"
      ],
      "text/plain": [
       "<IPython.core.display.HTML object>"
      ]
     },
     "metadata": {},
     "output_type": "display_data"
    },
    {
     "data": {
      "text/html": [
       " View run at <a href=\"https://wandb.ai/hobglob/face-age/runs/zwiyng35\" target=\"_blank\">https://wandb.ai/hobglob/face-age/runs/zwiyng35</a>"
      ],
      "text/plain": [
       "<IPython.core.display.HTML object>"
      ]
     },
     "metadata": {},
     "output_type": "display_data"
    },
    {
     "name": "stderr",
     "output_type": "stream",
     "text": [
      "GPU available: True (cuda), used: True\n",
      "TPU available: False, using: 0 TPU cores\n",
      "IPU available: False, using: 0 IPUs\n",
      "HPU available: False, using: 0 HPUs\n",
      "LOCAL_RANK: 0 - CUDA_VISIBLE_DEVICES: [0]\n",
      "\n",
      "  | Name         | Type                  | Params\n",
      "-------------------------------------------------------\n",
      "0 | net          | SimpleConvNet_100x100 | 5.1 M \n",
      "1 | criterion    | MSELoss               | 0     \n",
      "2 | train_mae    | MeanAbsoluteError     | 0     \n",
      "3 | val_mae      | MeanAbsoluteError     | 0     \n",
      "4 | test_mae     | MeanAbsoluteError     | 0     \n",
      "5 | train_loss   | MeanMetric            | 0     \n",
      "6 | val_loss     | MeanMetric            | 0     \n",
      "7 | test_loss    | MeanMetric            | 0     \n",
      "8 | val_mae_best | MinMetric             | 0     \n",
      "-------------------------------------------------------\n",
      "5.1 M     Trainable params\n",
      "0         Non-trainable params\n",
      "5.1 M     Total params\n",
      "20.502    Total estimated model params size (MB)\n"
     ]
    },
    {
     "name": "stdout",
     "output_type": "stream",
     "text": [
      "Epoch 9: 100%|██████████| 767/767 [00:13<00:00, 56.66it/s, loss=0.0216, v_num=ng35, val/loss=0.0384, val/mae=12.10, val/mae_best=11.00, train/loss=0.0236, train/mae=9.060]"
     ]
    },
    {
     "name": "stderr",
     "output_type": "stream",
     "text": [
      "`Trainer.fit` stopped: `max_epochs=10` reached.\n"
     ]
    },
    {
     "name": "stdout",
     "output_type": "stream",
     "text": [
      "Epoch 9: 100%|██████████| 767/767 [00:13<00:00, 56.65it/s, loss=0.0216, v_num=ng35, val/loss=0.0384, val/mae=12.10, val/mae_best=11.00, train/loss=0.0236, train/mae=9.060]\n"
     ]
    },
    {
     "name": "stderr",
     "output_type": "stream",
     "text": [
      "Restoring states from the checkpoint path at /home/ukasz/Projects/IntroToML/logs/2023-02-04_20-08-03/checkpoints/best-checkpoint.ckpt\n",
      "LOCAL_RANK: 0 - CUDA_VISIBLE_DEVICES: [0]\n",
      "Loaded model weights from checkpoint at /home/ukasz/Projects/IntroToML/logs/2023-02-04_20-08-03/checkpoints/best-checkpoint.ckpt\n"
     ]
    },
    {
     "name": "stdout",
     "output_type": "stream",
     "text": [
      "Testing DataLoader 0: 100%|██████████| 49/49 [00:00<00:00, 97.65it/s] \n"
     ]
    },
    {
     "data": {
      "text/html": [
       "<pre style=\"white-space:pre;overflow-x:auto;line-height:normal;font-family:Menlo,'DejaVu Sans Mono',consolas,'Courier New',monospace\">┏━━━━━━━━━━━━━━━━━━━━━━━━━━━┳━━━━━━━━━━━━━━━━━━━━━━━━━━━┓\n",
       "┃<span style=\"font-weight: bold\">        Test metric        </span>┃<span style=\"font-weight: bold\">       DataLoader 0        </span>┃\n",
       "┡━━━━━━━━━━━━━━━━━━━━━━━━━━━╇━━━━━━━━━━━━━━━━━━━━━━━━━━━┩\n",
       "│<span style=\"color: #008080; text-decoration-color: #008080\">         test/loss         </span>│<span style=\"color: #800080; text-decoration-color: #800080\">   0.032609354704618454    </span>│\n",
       "│<span style=\"color: #008080; text-decoration-color: #008080\">         test/mae          </span>│<span style=\"color: #800080; text-decoration-color: #800080\">    11.012202262878418     </span>│\n",
       "└───────────────────────────┴───────────────────────────┘\n",
       "</pre>\n"
      ],
      "text/plain": [
       "┏━━━━━━━━━━━━━━━━━━━━━━━━━━━┳━━━━━━━━━━━━━━━━━━━━━━━━━━━┓\n",
       "┃\u001b[1m \u001b[0m\u001b[1m       Test metric       \u001b[0m\u001b[1m \u001b[0m┃\u001b[1m \u001b[0m\u001b[1m      DataLoader 0       \u001b[0m\u001b[1m \u001b[0m┃\n",
       "┡━━━━━━━━━━━━━━━━━━━━━━━━━━━╇━━━━━━━━━━━━━━━━━━━━━━━━━━━┩\n",
       "│\u001b[36m \u001b[0m\u001b[36m        test/loss        \u001b[0m\u001b[36m \u001b[0m│\u001b[35m \u001b[0m\u001b[35m  0.032609354704618454   \u001b[0m\u001b[35m \u001b[0m│\n",
       "│\u001b[36m \u001b[0m\u001b[36m        test/mae         \u001b[0m\u001b[36m \u001b[0m│\u001b[35m \u001b[0m\u001b[35m   11.012202262878418    \u001b[0m\u001b[35m \u001b[0m│\n",
       "└───────────────────────────┴───────────────────────────┘\n"
      ]
     },
     "metadata": {},
     "output_type": "display_data"
    },
    {
     "data": {
      "text/html": [
       "Waiting for W&B process to finish... <strong style=\"color:green\">(success).</strong>"
      ],
      "text/plain": [
       "<IPython.core.display.HTML object>"
      ]
     },
     "metadata": {},
     "output_type": "display_data"
    },
    {
     "data": {
      "text/html": [
       "<style>\n",
       "    table.wandb td:nth-child(1) { padding: 0 10px; text-align: left ; width: auto;} td:nth-child(2) {text-align: left ; width: 100%}\n",
       "    .wandb-row { display: flex; flex-direction: row; flex-wrap: wrap; justify-content: flex-start; width: 100% }\n",
       "    .wandb-col { display: flex; flex-direction: column; flex-basis: 100%; flex: 1; padding: 10px; }\n",
       "    </style>\n",
       "<div class=\"wandb-row\"><div class=\"wandb-col\"><h3>Run history:</h3><br/><table class=\"wandb\"><tr><td>epoch</td><td>▁▁▁▁▂▂▂▂▂▂▂▂▃▃▃▃▄▄▄▄▅▅▅▅▅▅▅▅▆▆▆▆▇▇▇▇▇▇▇█</td></tr><tr><td>test/loss</td><td>▁</td></tr><tr><td>test/mae</td><td>▁</td></tr><tr><td>train/loss</td><td>█▁▁▁▁▁▁▁▁▁</td></tr><tr><td>train/mae</td><td>█▄▃▂▂▂▂▁▁▁</td></tr><tr><td>trainer/global_step</td><td>▁▁▁▂▂▂▂▂▂▃▃▃▃▃▄▄▄▄▄▄▅▅▅▅▅▆▆▆▆▆▇▇▇▇▇▇████</td></tr><tr><td>val/loss</td><td>█▄▄▃▅▃▃▂▂▂▃▂▄▂▁▂▂▂▂▂▁▂▂▁▄▂▂▂▁▁▂▃▂▁▁▁▁▂▂▂</td></tr><tr><td>val/mae</td><td>█▅▄▄▅▃▄▃▃▂▃▂▄▂▂▂▂▂▂▂▁▂▂▁▄▂▂▂▁▁▂▄▃▁▁▁▁▂▂▂</td></tr><tr><td>val/mae_best</td><td>█▅▄▄▄▃▃▃▃▂▂▂▂▂▂▂▂▂▂▂▁▁▁▁▁▁▁▁▁▁▁▁▁▁▁▁▁▁▁▁</td></tr></table><br/></div><div class=\"wandb-col\"><h3>Run summary:</h3><br/><table class=\"wandb\"><tr><td>epoch</td><td>10</td></tr><tr><td>test/loss</td><td>0.03261</td></tr><tr><td>test/mae</td><td>11.0122</td></tr><tr><td>train/loss</td><td>0.0236</td></tr><tr><td>train/mae</td><td>9.06211</td></tr><tr><td>trainer/global_step</td><td>5170</td></tr><tr><td>val/loss</td><td>0.03839</td></tr><tr><td>val/mae</td><td>12.08442</td></tr><tr><td>val/mae_best</td><td>10.96982</td></tr></table><br/></div></div>"
      ],
      "text/plain": [
       "<IPython.core.display.HTML object>"
      ]
     },
     "metadata": {},
     "output_type": "display_data"
    },
    {
     "data": {
      "text/html": [
       " View run <strong style=\"color:#cdcd00\">SimpleConvNet+(100, 100)+augmented=False+MSELoss</strong> at: <a href=\"https://wandb.ai/hobglob/face-age/runs/zwiyng35\" target=\"_blank\">https://wandb.ai/hobglob/face-age/runs/zwiyng35</a><br/>Synced 7 W&B file(s), 0 media file(s), 0 artifact file(s) and 0 other file(s)"
      ],
      "text/plain": [
       "<IPython.core.display.HTML object>"
      ]
     },
     "metadata": {},
     "output_type": "display_data"
    },
    {
     "data": {
      "text/html": [
       "Find logs at: <code>./logs/2023-02-04_20-08-03/wandb/run-20230204_200805-zwiyng35/logs</code>"
      ],
      "text/plain": [
       "<IPython.core.display.HTML object>"
      ]
     },
     "metadata": {},
     "output_type": "display_data"
    },
    {
     "name": "stderr",
     "output_type": "stream",
     "text": [
      "Global seed set to 1\n",
      "\u001b[34m\u001b[1mwandb\u001b[0m: \u001b[33mWARNING\u001b[0m Path /home/ukasz/Projects/IntroToML/logs/2023-02-04_20-10-32/wandb/ wasn't writable, using system temp directory.\n",
      "wandb: WARNING Path /home/ukasz/Projects/IntroToML/logs/2023-02-04_20-10-32/wandb/ wasn't writable, using system temp directory\n"
     ]
    },
    {
     "data": {
      "text/html": [
       "Tracking run with wandb version 0.13.9"
      ],
      "text/plain": [
       "<IPython.core.display.HTML object>"
      ]
     },
     "metadata": {},
     "output_type": "display_data"
    },
    {
     "data": {
      "text/html": [
       "Run data is saved locally in <code>/tmp/wandb/run-20230204_201032-hyfpeqsg</code>"
      ],
      "text/plain": [
       "<IPython.core.display.HTML object>"
      ]
     },
     "metadata": {},
     "output_type": "display_data"
    },
    {
     "data": {
      "text/html": [
       "Syncing run <strong><a href=\"https://wandb.ai/hobglob/face-age/runs/hyfpeqsg\" target=\"_blank\">SimpleConvNet+(100, 100)+augmented=False+MSELoss</a></strong> to <a href=\"https://wandb.ai/hobglob/face-age\" target=\"_blank\">Weights & Biases</a> (<a href=\"https://wandb.me/run\" target=\"_blank\">docs</a>)<br/>"
      ],
      "text/plain": [
       "<IPython.core.display.HTML object>"
      ]
     },
     "metadata": {},
     "output_type": "display_data"
    },
    {
     "data": {
      "text/html": [
       " View project at <a href=\"https://wandb.ai/hobglob/face-age\" target=\"_blank\">https://wandb.ai/hobglob/face-age</a>"
      ],
      "text/plain": [
       "<IPython.core.display.HTML object>"
      ]
     },
     "metadata": {},
     "output_type": "display_data"
    },
    {
     "data": {
      "text/html": [
       " View run at <a href=\"https://wandb.ai/hobglob/face-age/runs/hyfpeqsg\" target=\"_blank\">https://wandb.ai/hobglob/face-age/runs/hyfpeqsg</a>"
      ],
      "text/plain": [
       "<IPython.core.display.HTML object>"
      ]
     },
     "metadata": {},
     "output_type": "display_data"
    },
    {
     "name": "stderr",
     "output_type": "stream",
     "text": [
      "GPU available: True (cuda), used: True\n",
      "TPU available: False, using: 0 TPU cores\n",
      "IPU available: False, using: 0 IPUs\n",
      "HPU available: False, using: 0 HPUs\n",
      "LOCAL_RANK: 0 - CUDA_VISIBLE_DEVICES: [0]\n",
      "\n",
      "  | Name         | Type                  | Params\n",
      "-------------------------------------------------------\n",
      "0 | net          | SimpleConvNet_100x100 | 5.1 M \n",
      "1 | criterion    | MSELoss               | 0     \n",
      "2 | train_mae    | MeanAbsoluteError     | 0     \n",
      "3 | val_mae      | MeanAbsoluteError     | 0     \n",
      "4 | test_mae     | MeanAbsoluteError     | 0     \n",
      "5 | train_loss   | MeanMetric            | 0     \n",
      "6 | val_loss     | MeanMetric            | 0     \n",
      "7 | test_loss    | MeanMetric            | 0     \n",
      "8 | val_mae_best | MinMetric             | 0     \n",
      "-------------------------------------------------------\n",
      "5.1 M     Trainable params\n",
      "0         Non-trainable params\n",
      "5.1 M     Total params\n",
      "20.502    Total estimated model params size (MB)\n"
     ]
    },
    {
     "name": "stdout",
     "output_type": "stream",
     "text": [
      "Epoch 9: 100%|██████████| 767/767 [00:14<00:00, 52.22it/s, loss=0.0515, v_num=eqsg, val/loss=0.087, val/mae=20.10, val/mae_best=19.80, train/loss=0.0581, train/mae=15.00] "
     ]
    },
    {
     "name": "stderr",
     "output_type": "stream",
     "text": [
      "`Trainer.fit` stopped: `max_epochs=10` reached.\n"
     ]
    },
    {
     "name": "stdout",
     "output_type": "stream",
     "text": [
      "Epoch 9: 100%|██████████| 767/767 [00:14<00:00, 52.21it/s, loss=0.0515, v_num=eqsg, val/loss=0.087, val/mae=20.10, val/mae_best=19.80, train/loss=0.0581, train/mae=15.00]\n"
     ]
    },
    {
     "name": "stderr",
     "output_type": "stream",
     "text": [
      "Restoring states from the checkpoint path at /home/ukasz/Projects/IntroToML/logs/2023-02-04_20-10-32/checkpoints/best-checkpoint.ckpt\n",
      "LOCAL_RANK: 0 - CUDA_VISIBLE_DEVICES: [0]\n",
      "Loaded model weights from checkpoint at /home/ukasz/Projects/IntroToML/logs/2023-02-04_20-10-32/checkpoints/best-checkpoint.ckpt\n"
     ]
    },
    {
     "name": "stdout",
     "output_type": "stream",
     "text": [
      "Testing DataLoader 0: 100%|██████████| 49/49 [00:00<00:00, 124.58it/s]\n"
     ]
    },
    {
     "data": {
      "text/html": [
       "<pre style=\"white-space:pre;overflow-x:auto;line-height:normal;font-family:Menlo,'DejaVu Sans Mono',consolas,'Courier New',monospace\">┏━━━━━━━━━━━━━━━━━━━━━━━━━━━┳━━━━━━━━━━━━━━━━━━━━━━━━━━━┓\n",
       "┃<span style=\"font-weight: bold\">        Test metric        </span>┃<span style=\"font-weight: bold\">       DataLoader 0        </span>┃\n",
       "┡━━━━━━━━━━━━━━━━━━━━━━━━━━━╇━━━━━━━━━━━━━━━━━━━━━━━━━━━┩\n",
       "│<span style=\"color: #008080; text-decoration-color: #008080\">         test/loss         </span>│<span style=\"color: #800080; text-decoration-color: #800080\">    0.07978583127260208    </span>│\n",
       "│<span style=\"color: #008080; text-decoration-color: #008080\">         test/mae          </span>│<span style=\"color: #800080; text-decoration-color: #800080\">     19.31039047241211     </span>│\n",
       "└───────────────────────────┴───────────────────────────┘\n",
       "</pre>\n"
      ],
      "text/plain": [
       "┏━━━━━━━━━━━━━━━━━━━━━━━━━━━┳━━━━━━━━━━━━━━━━━━━━━━━━━━━┓\n",
       "┃\u001b[1m \u001b[0m\u001b[1m       Test metric       \u001b[0m\u001b[1m \u001b[0m┃\u001b[1m \u001b[0m\u001b[1m      DataLoader 0       \u001b[0m\u001b[1m \u001b[0m┃\n",
       "┡━━━━━━━━━━━━━━━━━━━━━━━━━━━╇━━━━━━━━━━━━━━━━━━━━━━━━━━━┩\n",
       "│\u001b[36m \u001b[0m\u001b[36m        test/loss        \u001b[0m\u001b[36m \u001b[0m│\u001b[35m \u001b[0m\u001b[35m   0.07978583127260208   \u001b[0m\u001b[35m \u001b[0m│\n",
       "│\u001b[36m \u001b[0m\u001b[36m        test/mae         \u001b[0m\u001b[36m \u001b[0m│\u001b[35m \u001b[0m\u001b[35m    19.31039047241211    \u001b[0m\u001b[35m \u001b[0m│\n",
       "└───────────────────────────┴───────────────────────────┘\n"
      ]
     },
     "metadata": {},
     "output_type": "display_data"
    },
    {
     "data": {
      "text/html": [
       "Waiting for W&B process to finish... <strong style=\"color:green\">(success).</strong>"
      ],
      "text/plain": [
       "<IPython.core.display.HTML object>"
      ]
     },
     "metadata": {},
     "output_type": "display_data"
    },
    {
     "data": {
      "text/html": [
       "<style>\n",
       "    table.wandb td:nth-child(1) { padding: 0 10px; text-align: left ; width: auto;} td:nth-child(2) {text-align: left ; width: 100%}\n",
       "    .wandb-row { display: flex; flex-direction: row; flex-wrap: wrap; justify-content: flex-start; width: 100% }\n",
       "    .wandb-col { display: flex; flex-direction: column; flex-basis: 100%; flex: 1; padding: 10px; }\n",
       "    </style>\n",
       "<div class=\"wandb-row\"><div class=\"wandb-col\"><h3>Run history:</h3><br/><table class=\"wandb\"><tr><td>epoch</td><td>▁▁▁▁▂▂▂▂▂▂▂▂▃▃▃▃▄▄▄▄▅▅▅▅▅▅▅▅▆▆▆▆▇▇▇▇▇▇▇█</td></tr><tr><td>test/loss</td><td>▁</td></tr><tr><td>test/mae</td><td>▁</td></tr><tr><td>train/loss</td><td>█▁▁▁▁▁▁▁▁▁</td></tr><tr><td>train/mae</td><td>█▂▁▃▂▃▂▂▂▂</td></tr><tr><td>trainer/global_step</td><td>▁▁▁▂▂▂▂▂▂▃▃▃▃▃▄▄▄▄▄▄▅▅▅▅▅▆▆▆▆▆▇▇▇▇▇▇████</td></tr><tr><td>val/loss</td><td>▂▁▂▃▄▇▃▂▃▂▃▁▄▄▃▂▃▄▃▆█▄█▁▂▆▂▃▂▄▄▆▂▃▂▄▃▃▃▂</td></tr><tr><td>val/mae</td><td>▂▁▂▃▄▇▃▂▃▂▃▁▄▄▃▂▄▄▃▆█▄█▁▃▆▂▃▃▄▄▆▂▃▂▄▃▃▃▂</td></tr><tr><td>val/mae_best</td><td>█▂▂▂▂▂▂▂▂▂▂▂▂▂▂▂▂▂▂▂▂▂▂▁▁▁▁▁▁▁▁▁▁▁▁▁▁▁▁▁</td></tr></table><br/></div><div class=\"wandb-col\"><h3>Run summary:</h3><br/><table class=\"wandb\"><tr><td>epoch</td><td>10</td></tr><tr><td>test/loss</td><td>0.07979</td></tr><tr><td>test/mae</td><td>19.31039</td></tr><tr><td>train/loss</td><td>0.05812</td></tr><tr><td>train/mae</td><td>14.97241</td></tr><tr><td>trainer/global_step</td><td>5170</td></tr><tr><td>val/loss</td><td>0.08703</td></tr><tr><td>val/mae</td><td>20.1125</td></tr><tr><td>val/mae_best</td><td>19.81214</td></tr></table><br/></div></div>"
      ],
      "text/plain": [
       "<IPython.core.display.HTML object>"
      ]
     },
     "metadata": {},
     "output_type": "display_data"
    },
    {
     "data": {
      "text/html": [
       " View run <strong style=\"color:#cdcd00\">SimpleConvNet+(100, 100)+augmented=False+MSELoss</strong> at: <a href=\"https://wandb.ai/hobglob/face-age/runs/hyfpeqsg\" target=\"_blank\">https://wandb.ai/hobglob/face-age/runs/hyfpeqsg</a><br/>Synced 7 W&B file(s), 0 media file(s), 0 artifact file(s) and 0 other file(s)"
      ],
      "text/plain": [
       "<IPython.core.display.HTML object>"
      ]
     },
     "metadata": {},
     "output_type": "display_data"
    },
    {
     "data": {
      "text/html": [
       "Find logs at: <code>./logs/2023-02-04_20-10-32/wandb/run-20230204_201032-hyfpeqsg/logs</code>"
      ],
      "text/plain": [
       "<IPython.core.display.HTML object>"
      ]
     },
     "metadata": {},
     "output_type": "display_data"
    },
    {
     "name": "stderr",
     "output_type": "stream",
     "text": [
      "Global seed set to 2\n",
      "\u001b[34m\u001b[1mwandb\u001b[0m: \u001b[33mWARNING\u001b[0m Path /home/ukasz/Projects/IntroToML/logs/2023-02-04_20-12-56/wandb/ wasn't writable, using system temp directory.\n",
      "wandb: WARNING Path /home/ukasz/Projects/IntroToML/logs/2023-02-04_20-12-56/wandb/ wasn't writable, using system temp directory\n"
     ]
    },
    {
     "data": {
      "text/html": [
       "Tracking run with wandb version 0.13.9"
      ],
      "text/plain": [
       "<IPython.core.display.HTML object>"
      ]
     },
     "metadata": {},
     "output_type": "display_data"
    },
    {
     "data": {
      "text/html": [
       "Run data is saved locally in <code>/tmp/wandb/run-20230204_201256-djqw6ew9</code>"
      ],
      "text/plain": [
       "<IPython.core.display.HTML object>"
      ]
     },
     "metadata": {},
     "output_type": "display_data"
    },
    {
     "data": {
      "text/html": [
       "Syncing run <strong><a href=\"https://wandb.ai/hobglob/face-age/runs/djqw6ew9\" target=\"_blank\">SimpleConvNet+(100, 100)+augmented=False+MSELoss</a></strong> to <a href=\"https://wandb.ai/hobglob/face-age\" target=\"_blank\">Weights & Biases</a> (<a href=\"https://wandb.me/run\" target=\"_blank\">docs</a>)<br/>"
      ],
      "text/plain": [
       "<IPython.core.display.HTML object>"
      ]
     },
     "metadata": {},
     "output_type": "display_data"
    },
    {
     "data": {
      "text/html": [
       " View project at <a href=\"https://wandb.ai/hobglob/face-age\" target=\"_blank\">https://wandb.ai/hobglob/face-age</a>"
      ],
      "text/plain": [
       "<IPython.core.display.HTML object>"
      ]
     },
     "metadata": {},
     "output_type": "display_data"
    },
    {
     "data": {
      "text/html": [
       " View run at <a href=\"https://wandb.ai/hobglob/face-age/runs/djqw6ew9\" target=\"_blank\">https://wandb.ai/hobglob/face-age/runs/djqw6ew9</a>"
      ],
      "text/plain": [
       "<IPython.core.display.HTML object>"
      ]
     },
     "metadata": {},
     "output_type": "display_data"
    },
    {
     "name": "stderr",
     "output_type": "stream",
     "text": [
      "GPU available: True (cuda), used: True\n",
      "TPU available: False, using: 0 TPU cores\n",
      "IPU available: False, using: 0 IPUs\n",
      "HPU available: False, using: 0 HPUs\n",
      "LOCAL_RANK: 0 - CUDA_VISIBLE_DEVICES: [0]\n",
      "\n",
      "  | Name         | Type                  | Params\n",
      "-------------------------------------------------------\n",
      "0 | net          | SimpleConvNet_100x100 | 5.1 M \n",
      "1 | criterion    | MSELoss               | 0     \n",
      "2 | train_mae    | MeanAbsoluteError     | 0     \n",
      "3 | val_mae      | MeanAbsoluteError     | 0     \n",
      "4 | test_mae     | MeanAbsoluteError     | 0     \n",
      "5 | train_loss   | MeanMetric            | 0     \n",
      "6 | val_loss     | MeanMetric            | 0     \n",
      "7 | test_loss    | MeanMetric            | 0     \n",
      "8 | val_mae_best | MinMetric             | 0     \n",
      "-------------------------------------------------------\n",
      "5.1 M     Trainable params\n",
      "0         Non-trainable params\n",
      "5.1 M     Total params\n",
      "20.502    Total estimated model params size (MB)\n"
     ]
    },
    {
     "name": "stdout",
     "output_type": "stream",
     "text": [
      "Epoch 9: 100%|██████████| 767/767 [00:16<00:00, 47.22it/s, loss=0.0571, v_num=6ew9, val/loss=0.0947, val/mae=20.80, val/mae_best=19.90, train/loss=0.0578, train/mae=14.90]"
     ]
    },
    {
     "name": "stderr",
     "output_type": "stream",
     "text": [
      "`Trainer.fit` stopped: `max_epochs=10` reached.\n"
     ]
    },
    {
     "name": "stdout",
     "output_type": "stream",
     "text": [
      "Epoch 9: 100%|██████████| 767/767 [00:16<00:00, 47.21it/s, loss=0.0571, v_num=6ew9, val/loss=0.0947, val/mae=20.80, val/mae_best=19.90, train/loss=0.0578, train/mae=14.90]\n"
     ]
    },
    {
     "name": "stderr",
     "output_type": "stream",
     "text": [
      "Restoring states from the checkpoint path at /home/ukasz/Projects/IntroToML/logs/2023-02-04_20-12-56/checkpoints/best-checkpoint.ckpt\n",
      "LOCAL_RANK: 0 - CUDA_VISIBLE_DEVICES: [0]\n",
      "Loaded model weights from checkpoint at /home/ukasz/Projects/IntroToML/logs/2023-02-04_20-12-56/checkpoints/best-checkpoint.ckpt\n"
     ]
    },
    {
     "name": "stdout",
     "output_type": "stream",
     "text": [
      "Testing DataLoader 0: 100%|██████████| 49/49 [00:00<00:00, 108.29it/s]\n"
     ]
    },
    {
     "data": {
      "text/html": [
       "<pre style=\"white-space:pre;overflow-x:auto;line-height:normal;font-family:Menlo,'DejaVu Sans Mono',consolas,'Courier New',monospace\">┏━━━━━━━━━━━━━━━━━━━━━━━━━━━┳━━━━━━━━━━━━━━━━━━━━━━━━━━━┓\n",
       "┃<span style=\"font-weight: bold\">        Test metric        </span>┃<span style=\"font-weight: bold\">       DataLoader 0        </span>┃\n",
       "┡━━━━━━━━━━━━━━━━━━━━━━━━━━━╇━━━━━━━━━━━━━━━━━━━━━━━━━━━┩\n",
       "│<span style=\"color: #008080; text-decoration-color: #008080\">         test/loss         </span>│<span style=\"color: #800080; text-decoration-color: #800080\">    0.07999113947153091    </span>│\n",
       "│<span style=\"color: #008080; text-decoration-color: #008080\">         test/mae          </span>│<span style=\"color: #800080; text-decoration-color: #800080\">    19.334476470947266     </span>│\n",
       "└───────────────────────────┴───────────────────────────┘\n",
       "</pre>\n"
      ],
      "text/plain": [
       "┏━━━━━━━━━━━━━━━━━━━━━━━━━━━┳━━━━━━━━━━━━━━━━━━━━━━━━━━━┓\n",
       "┃\u001b[1m \u001b[0m\u001b[1m       Test metric       \u001b[0m\u001b[1m \u001b[0m┃\u001b[1m \u001b[0m\u001b[1m      DataLoader 0       \u001b[0m\u001b[1m \u001b[0m┃\n",
       "┡━━━━━━━━━━━━━━━━━━━━━━━━━━━╇━━━━━━━━━━━━━━━━━━━━━━━━━━━┩\n",
       "│\u001b[36m \u001b[0m\u001b[36m        test/loss        \u001b[0m\u001b[36m \u001b[0m│\u001b[35m \u001b[0m\u001b[35m   0.07999113947153091   \u001b[0m\u001b[35m \u001b[0m│\n",
       "│\u001b[36m \u001b[0m\u001b[36m        test/mae         \u001b[0m\u001b[36m \u001b[0m│\u001b[35m \u001b[0m\u001b[35m   19.334476470947266    \u001b[0m\u001b[35m \u001b[0m│\n",
       "└───────────────────────────┴───────────────────────────┘\n"
      ]
     },
     "metadata": {},
     "output_type": "display_data"
    },
    {
     "data": {
      "text/html": [
       "Waiting for W&B process to finish... <strong style=\"color:green\">(success).</strong>"
      ],
      "text/plain": [
       "<IPython.core.display.HTML object>"
      ]
     },
     "metadata": {},
     "output_type": "display_data"
    },
    {
     "data": {
      "text/html": [
       "<style>\n",
       "    table.wandb td:nth-child(1) { padding: 0 10px; text-align: left ; width: auto;} td:nth-child(2) {text-align: left ; width: 100%}\n",
       "    .wandb-row { display: flex; flex-direction: row; flex-wrap: wrap; justify-content: flex-start; width: 100% }\n",
       "    .wandb-col { display: flex; flex-direction: column; flex-basis: 100%; flex: 1; padding: 10px; }\n",
       "    </style>\n",
       "<div class=\"wandb-row\"><div class=\"wandb-col\"><h3>Run history:</h3><br/><table class=\"wandb\"><tr><td>epoch</td><td>▁▁▁▁▂▂▂▂▂▂▂▂▃▃▃▃▄▄▄▄▅▅▅▅▅▅▅▅▆▆▆▆▇▇▇▇▇▇▇█</td></tr><tr><td>test/loss</td><td>▁</td></tr><tr><td>test/mae</td><td>▁</td></tr><tr><td>train/loss</td><td>█▁▁▁▁▁▁▁▁▁</td></tr><tr><td>train/mae</td><td>█▁▁▁▁▁▁▁▁▁</td></tr><tr><td>trainer/global_step</td><td>▁▁▁▂▂▂▂▂▂▃▃▃▃▃▄▄▄▄▄▄▅▅▅▅▅▆▆▆▆▆▇▇▇▇▇▇████</td></tr><tr><td>val/loss</td><td>▃▃▃▃▄▃▂▄▅▁▅▂▃▂▄▄▆▄▄▂█▃▄▂▆▄▁▃▃▅▂▄▂▁▂▁▃▄▄▄</td></tr><tr><td>val/mae</td><td>▄▃▃▃▄▃▂▄▅▁▅▂▃▂▄▄▆▄▄▂█▃▄▂▆▄▁▃▃▅▂▄▂▁▂▁▃▄▄▄</td></tr><tr><td>val/mae_best</td><td>█▇▆▆▆▆▃▃▂▂▂▂▂▂▂▂▂▂▂▂▂▂▂▂▂▂▁▁▁▁▁▁▁▁▁▁▁▁▁▁</td></tr></table><br/></div><div class=\"wandb-col\"><h3>Run summary:</h3><br/><table class=\"wandb\"><tr><td>epoch</td><td>10</td></tr><tr><td>test/loss</td><td>0.07999</td></tr><tr><td>test/mae</td><td>19.33448</td></tr><tr><td>train/loss</td><td>0.05781</td></tr><tr><td>train/mae</td><td>14.93408</td></tr><tr><td>trainer/global_step</td><td>5170</td></tr><tr><td>val/loss</td><td>0.09472</td></tr><tr><td>val/mae</td><td>20.78312</td></tr><tr><td>val/mae_best</td><td>19.85258</td></tr></table><br/></div></div>"
      ],
      "text/plain": [
       "<IPython.core.display.HTML object>"
      ]
     },
     "metadata": {},
     "output_type": "display_data"
    },
    {
     "data": {
      "text/html": [
       " View run <strong style=\"color:#cdcd00\">SimpleConvNet+(100, 100)+augmented=False+MSELoss</strong> at: <a href=\"https://wandb.ai/hobglob/face-age/runs/djqw6ew9\" target=\"_blank\">https://wandb.ai/hobglob/face-age/runs/djqw6ew9</a><br/>Synced 7 W&B file(s), 0 media file(s), 0 artifact file(s) and 0 other file(s)"
      ],
      "text/plain": [
       "<IPython.core.display.HTML object>"
      ]
     },
     "metadata": {},
     "output_type": "display_data"
    },
    {
     "data": {
      "text/html": [
       "Find logs at: <code>./logs/2023-02-04_20-12-56/wandb/run-20230204_201256-djqw6ew9/logs</code>"
      ],
      "text/plain": [
       "<IPython.core.display.HTML object>"
      ]
     },
     "metadata": {},
     "output_type": "display_data"
    }
   ],
   "source": [
    "main()"
   ]
  }
 ],
 "metadata": {
  "kernelspec": {
   "display_name": "faceage",
   "language": "python",
   "name": "python3"
  },
  "language_info": {
   "codemirror_mode": {
    "name": "ipython",
    "version": 3
   },
   "file_extension": ".py",
   "mimetype": "text/x-python",
   "name": "python",
   "nbconvert_exporter": "python",
   "pygments_lexer": "ipython3",
   "version": "3.8.16"
  },
  "orig_nbformat": 4,
  "vscode": {
   "interpreter": {
    "hash": "7e0b566f687acfa48ff4685de1da1d7e08e1fe82acf5402d5b831e76373ab537"
   }
  }
 },
 "nbformat": 4,
 "nbformat_minor": 2
}
