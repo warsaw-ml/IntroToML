{
 "cells": [
  {
   "cell_type": "code",
   "execution_count": 1,
   "metadata": {},
   "outputs": [
    {
     "name": "stderr",
     "output_type": "stream",
     "text": [
      "/home/ukasz/miniconda3/envs/faceage/lib/python3.8/site-packages/tqdm/auto.py:22: TqdmWarning: IProgress not found. Please update jupyter and ipywidgets. See https://ipywidgets.readthedocs.io/en/stable/user_install.html\n",
      "  from .autonotebook import tqdm as notebook_tqdm\n"
     ]
    }
   ],
   "source": [
    "import time\n",
    "import pyrootutils\n",
    "import pytorch_lightning as pl\n",
    "import wandb\n",
    "\n",
    "# set pythonpath and working directory to folder containing .project-root file\n",
    "root = pyrootutils.setup_root(\".\", indicator=\".project-root\", pythonpath=True, cwd=True)\n",
    "\n",
    "from src.data.face_age_datamodule import FaceAgeDataModule\n",
    "from src.models.face_age_module import FaceAgeModule\n",
    "\n",
    "\n",
    "def main():\n",
    "    \n",
    "    # execute for 3 seeds\n",
    "    for i in range(3):\n",
    "        # set seed for reproducibility\n",
    "        pl.seed_everything(i+42)\n",
    "\n",
    "        data_dir = root / \"data\"\n",
    "        log_dir = root / \"logs\" / time.strftime(\"%Y-%m-%d_%H-%M-%S\", time.localtime())\n",
    "\n",
    "        use_wandb = True\n",
    "        age_norm_value = 80\n",
    "        use_augmented_dataset = False\n",
    "        loss_fn = \"MSELoss\"  # \"SmoothL1Loss\"\n",
    "\n",
    "        # 1\n",
    "        net = \"SimpleConvNet_100x100\"\n",
    "        img_size = (100, 100)\n",
    "        imagenet_normalization = False\n",
    "        exp_name = f\"SimpleConvNet+{img_size}+augmented={use_augmented_dataset}+{loss_fn}\"\n",
    "\n",
    "        # 2\n",
    "        # net = \"SimpleConvNet_224x224\"\n",
    "        # img_size = (224, 224)\n",
    "        # imagenet_normalization = False\n",
    "        # exp_name = f\"SimpleConvNet+{img_size}+augmented={use_augmented_dataset}+{loss_fn}\"\n",
    "\n",
    "        # 3\n",
    "        # net = \"EffNet_224x224\"\n",
    "        # img_size = (224, 224)\n",
    "        # imagenet_normalization = True\n",
    "        # exp_name = f\"EffNet+{img_size}+augmented={use_augmented_dataset}+{loss_fn}\"\n",
    "\n",
    "        datamodule = FaceAgeDataModule(\n",
    "            data_dir=data_dir,\n",
    "            img_size=img_size,\n",
    "            imagenet_normalization=imagenet_normalization,\n",
    "            use_augmented_dataset=use_augmented_dataset,\n",
    "            normalize_age_by=age_norm_value,\n",
    "            num_workers=0,\n",
    "            batch_size=32,\n",
    "            pin_memory=True,\n",
    "        )\n",
    "\n",
    "        model = FaceAgeModule(net=net, rescale_age_by=age_norm_value, loss_fn=loss_fn)\n",
    "\n",
    "        callbacks = []\n",
    "        loggers = []\n",
    "\n",
    "        # this controls how checkpoints are saved\n",
    "        callbacks.append(\n",
    "            pl.callbacks.ModelCheckpoint(\n",
    "                monitor=\"val/loss\",\n",
    "                dirpath=log_dir / \"checkpoints\",\n",
    "                save_top_k=1,  # save the best checkpoint\n",
    "                save_last=True,  # additionally the save the last checkpoint\n",
    "                mode=\"min\",\n",
    "                save_weights_only=True,\n",
    "                filename=\"best-checkpoint\",\n",
    "            )\n",
    "        )\n",
    "\n",
    "        # this configurates optional weights&biases logger\n",
    "        if use_wandb:\n",
    "            loggers.append(\n",
    "                pl.loggers.WandbLogger(\n",
    "                    project=\"face-age\",\n",
    "                    save_dir=log_dir,\n",
    "                    name=exp_name,\n",
    "                    group=exp_name,\n",
    "                )\n",
    "            )\n",
    "\n",
    "        # trainer setup\n",
    "        trainer = pl.Trainer(\n",
    "            accelerator=\"gpu\",\n",
    "            default_root_dir=log_dir,\n",
    "            callbacks=callbacks,\n",
    "            logger=loggers,\n",
    "            max_epochs=10,\n",
    "            val_check_interval=0.2,  # frequency of validation epoch\n",
    "        )\n",
    "\n",
    "        # train\n",
    "        trainer.fit(model=model, datamodule=datamodule)\n",
    "\n",
    "        # test\n",
    "        trainer.test(model=model, datamodule=datamodule, ckpt_path=\"best\")\n",
    "\n",
    "        if use_wandb:\n",
    "            wandb.finish()"
   ]
  },
  {
   "cell_type": "code",
   "execution_count": 2,
   "metadata": {},
   "outputs": [
    {
     "name": "stderr",
     "output_type": "stream",
     "text": [
      "Global seed set to 42\n",
      "Failed to detect the name of this notebook, you can set it manually with the WANDB_NOTEBOOK_NAME environment variable to enable code saving.\n",
      "\u001b[34m\u001b[1mwandb\u001b[0m: Currently logged in as: \u001b[33mhobglob\u001b[0m. Use \u001b[1m`wandb login --relogin`\u001b[0m to force relogin\n",
      "\u001b[34m\u001b[1mwandb\u001b[0m: \u001b[33mWARNING\u001b[0m Path /home/ukasz/Projects/IntroToML/logs/2023-02-04_20-33-54/wandb/ wasn't writable, using system temp directory.\n",
      "wandb: WARNING Path /home/ukasz/Projects/IntroToML/logs/2023-02-04_20-33-54/wandb/ wasn't writable, using system temp directory\n"
     ]
    },
    {
     "data": {
      "text/html": [
       "Tracking run with wandb version 0.13.9"
      ],
      "text/plain": [
       "<IPython.core.display.HTML object>"
      ]
     },
     "metadata": {},
     "output_type": "display_data"
    },
    {
     "data": {
      "text/html": [
       "Run data is saved locally in <code>/tmp/wandb/run-20230204_203359-brtoc5gt</code>"
      ],
      "text/plain": [
       "<IPython.core.display.HTML object>"
      ]
     },
     "metadata": {},
     "output_type": "display_data"
    },
    {
     "data": {
      "text/html": [
       "Syncing run <strong><a href=\"https://wandb.ai/hobglob/face-age/runs/brtoc5gt\" target=\"_blank\">SimpleConvNet+(100, 100)+augmented=False+MSELoss</a></strong> to <a href=\"https://wandb.ai/hobglob/face-age\" target=\"_blank\">Weights & Biases</a> (<a href=\"https://wandb.me/run\" target=\"_blank\">docs</a>)<br/>"
      ],
      "text/plain": [
       "<IPython.core.display.HTML object>"
      ]
     },
     "metadata": {},
     "output_type": "display_data"
    },
    {
     "data": {
      "text/html": [
       " View project at <a href=\"https://wandb.ai/hobglob/face-age\" target=\"_blank\">https://wandb.ai/hobglob/face-age</a>"
      ],
      "text/plain": [
       "<IPython.core.display.HTML object>"
      ]
     },
     "metadata": {},
     "output_type": "display_data"
    },
    {
     "data": {
      "text/html": [
       " View run at <a href=\"https://wandb.ai/hobglob/face-age/runs/brtoc5gt\" target=\"_blank\">https://wandb.ai/hobglob/face-age/runs/brtoc5gt</a>"
      ],
      "text/plain": [
       "<IPython.core.display.HTML object>"
      ]
     },
     "metadata": {},
     "output_type": "display_data"
    },
    {
     "name": "stderr",
     "output_type": "stream",
     "text": [
      "GPU available: True (cuda), used: True\n",
      "TPU available: False, using: 0 TPU cores\n",
      "IPU available: False, using: 0 IPUs\n",
      "HPU available: False, using: 0 HPUs\n",
      "LOCAL_RANK: 0 - CUDA_VISIBLE_DEVICES: [0]\n",
      "\n",
      "  | Name         | Type                  | Params\n",
      "-------------------------------------------------------\n",
      "0 | net          | SimpleConvNet_100x100 | 5.1 M \n",
      "1 | criterion    | MSELoss               | 0     \n",
      "2 | train_mae    | MeanAbsoluteError     | 0     \n",
      "3 | val_mae      | MeanAbsoluteError     | 0     \n",
      "4 | test_mae     | MeanAbsoluteError     | 0     \n",
      "5 | train_loss   | MeanMetric            | 0     \n",
      "6 | val_loss     | MeanMetric            | 0     \n",
      "7 | test_loss    | MeanMetric            | 0     \n",
      "8 | val_mae_best | MinMetric             | 0     \n",
      "-------------------------------------------------------\n",
      "5.1 M     Trainable params\n",
      "0         Non-trainable params\n",
      "5.1 M     Total params\n",
      "20.502    Total estimated model params size (MB)\n"
     ]
    },
    {
     "name": "stdout",
     "output_type": "stream",
     "text": [
      "Sanity Checking DataLoader 0:   0%|          | 0/2 [00:00<?, ?it/s]"
     ]
    },
    {
     "name": "stderr",
     "output_type": "stream",
     "text": [
      "/home/ukasz/miniconda3/envs/faceage/lib/python3.8/site-packages/pytorch_lightning/trainer/connectors/data_connector.py:224: PossibleUserWarning: The dataloader, val_dataloader 0, does not have many workers which may be a bottleneck. Consider increasing the value of the `num_workers` argument` (try 12 which is the number of cpus on this machine) in the `DataLoader` init to improve performance.\n",
      "  rank_zero_warn(\n"
     ]
    },
    {
     "name": "stdout",
     "output_type": "stream",
     "text": [
      "                                                                           "
     ]
    },
    {
     "name": "stderr",
     "output_type": "stream",
     "text": [
      "/home/ukasz/miniconda3/envs/faceage/lib/python3.8/site-packages/pytorch_lightning/trainer/connectors/data_connector.py:224: PossibleUserWarning: The dataloader, train_dataloader, does not have many workers which may be a bottleneck. Consider increasing the value of the `num_workers` argument` (try 12 which is the number of cpus on this machine) in the `DataLoader` init to improve performance.\n",
      "  rank_zero_warn(\n"
     ]
    },
    {
     "name": "stdout",
     "output_type": "stream",
     "text": [
      "Epoch 4:  85%|████████▍ | 649/767 [00:21<00:03, 30.25it/s, loss=0.0281, v_num=c5gt, val/loss=0.0434, val/mae=12.90, val/mae_best=12.40, train/loss=0.0295, train/mae=10.20]"
     ]
    }
   ],
   "source": [
    "main()"
   ]
  }
 ],
 "metadata": {
  "kernelspec": {
   "display_name": "faceage",
   "language": "python",
   "name": "python3"
  },
  "language_info": {
   "codemirror_mode": {
    "name": "ipython",
    "version": 3
   },
   "file_extension": ".py",
   "mimetype": "text/x-python",
   "name": "python",
   "nbconvert_exporter": "python",
   "pygments_lexer": "ipython3",
   "version": "3.8.16"
  },
  "orig_nbformat": 4,
  "vscode": {
   "interpreter": {
    "hash": "7e0b566f687acfa48ff4685de1da1d7e08e1fe82acf5402d5b831e76373ab537"
   }
  }
 },
 "nbformat": 4,
 "nbformat_minor": 2
}
